{
 "cells": [
  {
   "cell_type": "markdown",
   "metadata": {},
   "source": [
    "## Jonathon Desiderio | Revised Problem 4"
   ]
  },
  {
   "cell_type": "markdown",
   "metadata": {},
   "source": [
    "For this question, I like the strength in numbers arguement.  Instead of just selecting the top 3 beers with the hightest median value, I selected the highest averages with the most reviews, sorting on median first.  For this, if my friend states that he prefers taste with beer, I will refer him to the top three for taste below.  If my friend states that he prefers palette, I will do the same.  Lastly, if my friend does not have a preference, I will refer him to the overall section.  This function is easy to edit too, if we want to use the mean instead."
   ]
  },
  {
   "cell_type": "code",
   "execution_count": 1,
   "metadata": {},
   "outputs": [],
   "source": [
    "import pandas as pd\n",
    "import numpy as np"
   ]
  },
  {
   "cell_type": "code",
   "execution_count": 12,
   "metadata": {},
   "outputs": [],
   "source": [
    "def get_top_3(attribute):\n",
    "    df = pd.read_csv('beer.csv', encoding='latin-1')\n",
    "    df = df[df['review_text'].notna()]\n",
    "    df = df[df['beer_ABV'].notna()]\n",
    "    edit_df = df[['beer_name', attribute]].groupby('beer_name').agg(['count', 'median'])\n",
    "    edit_df.columns = edit_df.columns.droplevel()\n",
    "    df = edit_df.reset_index()\n",
    "    df = df.sort_values([\"median\", \"count\"], ascending = (False, False))\n",
    "    return df.head(3)"
   ]
  },
  {
   "cell_type": "code",
   "execution_count": 13,
   "metadata": {},
   "outputs": [],
   "source": [
    "attributes = ['review_taste', 'review_palette', 'review_appearance', 'review_aroma', 'review_overall']"
   ]
  },
  {
   "cell_type": "code",
   "execution_count": 14,
   "metadata": {},
   "outputs": [
    {
     "name": "stdout",
     "output_type": "stream",
     "text": [
      "Top 3 Beers for review_taste:\n",
      "                                              beer_name  count  median\n",
      "464      Alesmith Speedway Stout - Vanilla And Coconut       8     5.0\n",
      "2653                  Cantillon La Dernière Cuvée Du 89      6     5.0\n",
      "442   AleSmith Speedway Stout - Madagascar Cocoa Nib...      3     5.0\n",
      "\n",
      "\n",
      "Top 3 Beers for review_palette:\n",
      "                                           beer_name  count  median\n",
      "3073                                      Citra DIPA    252     5.0\n",
      "464   Alesmith Speedway Stout - Vanilla And Coconut       8     5.0\n",
      "7558   Little Korkny Ale (Niepoort Port Barrel Aged)      8     5.0\n",
      "\n",
      "\n",
      "Top 3 Beers for review_appearance:\n",
      "                                  beer_name  count  median\n",
      "3154  Coffee Infused Imperial Stout Trooper      7     5.0\n",
      "4062                               El Gordo      7     5.0\n",
      "4320               Falke Tripel Monasterium      7     5.0\n",
      "\n",
      "\n",
      "Top 3 Beers for review_aroma:\n",
      "                                           beer_name  count  median\n",
      "4615                     Founders CBS Imperial Stout    637     5.0\n",
      "10545                                      Royal Oil     15     5.0\n",
      "2952   Cherry Vanilla Infused Imperial Stout Trooper     11     5.0\n",
      "\n",
      "\n",
      "Top 3 Beers for review_overall:\n",
      "                         beer_name  count  median\n",
      "11574  Southampton Berliner Weisse     41     5.0\n",
      "8072   Mike Duggan #05 Asian Lager     10     5.0\n",
      "2639        Cantillon Cuvee Moeder      9     5.0\n",
      "\n",
      "\n"
     ]
    }
   ],
   "source": [
    "for i in attributes:\n",
    "    print('Top 3 Beers for {}:'.format(i))\n",
    "    print(get_top_3(i))\n",
    "    print('\\n')"
   ]
  }
 ],
 "metadata": {
  "interpreter": {
   "hash": "fa1a0c6af3f19fc2a89ff677cc16cabdeb47d4221f7a1de2795e662431ab72cc"
  },
  "kernelspec": {
   "display_name": "Python 3.8.5 32-bit",
   "name": "python3"
  },
  "language_info": {
   "codemirror_mode": {
    "name": "ipython",
    "version": 3
   },
   "file_extension": ".py",
   "mimetype": "text/x-python",
   "name": "python",
   "nbconvert_exporter": "python",
   "pygments_lexer": "ipython3",
   "version": "3.8.5"
  },
  "orig_nbformat": 4
 },
 "nbformat": 4,
 "nbformat_minor": 2
}
